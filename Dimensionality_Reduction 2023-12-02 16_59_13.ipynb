{
 "cells": [
  {
   "cell_type": "code",
   "execution_count": 0,
   "metadata": {
    "application/vnd.databricks.v1+cell": {
     "cellMetadata": {
      "byteLimit": 2048000,
      "rowLimit": 10000
     },
     "inputWidgets": {},
     "nuid": "84da713b-5c0c-4d42-93c7-818f7e200526",
     "showTitle": false,
     "title": ""
    }
   },
   "outputs": [],
   "source": [
    "from pyspark.sql import SparkSession\n",
    "from pyspark.ml.feature import VectorAssembler, PCA\n",
    "from pyspark.ml.linalg import Vectors\n",
    "from sklearn.datasets import load_iris\n",
    "import pandas as pd\n"
   ]
  },
  {
   "cell_type": "code",
   "execution_count": 0,
   "metadata": {
    "application/vnd.databricks.v1+cell": {
     "cellMetadata": {
      "byteLimit": 2048000,
      "rowLimit": 10000
     },
     "inputWidgets": {},
     "nuid": "213dabd0-d127-49e7-bd47-06b3d76da0a8",
     "showTitle": false,
     "title": ""
    }
   },
   "outputs": [],
   "source": [
    "spark = SparkSession.builder.appName(\"PCA_Iris\").getOrCreate()\n"
   ]
  },
  {
   "cell_type": "code",
   "execution_count": 0,
   "metadata": {
    "application/vnd.databricks.v1+cell": {
     "cellMetadata": {
      "byteLimit": 2048000,
      "rowLimit": 10000
     },
     "inputWidgets": {},
     "nuid": "6eb7c0bf-67ed-4f4b-8b4f-8e281a9a3943",
     "showTitle": false,
     "title": ""
    }
   },
   "outputs": [
    {
     "output_type": "stream",
     "name": "stdout",
     "output_type": "stream",
     "text": [
      "+-----------------+----------------+-----------------+----------------+------+\n|sepal length (cm)|sepal width (cm)|petal length (cm)|petal width (cm)|target|\n+-----------------+----------------+-----------------+----------------+------+\n|              5.1|             3.5|              1.4|             0.2|     0|\n|              4.9|             3.0|              1.4|             0.2|     0|\n|              4.7|             3.2|              1.3|             0.2|     0|\n|              4.6|             3.1|              1.5|             0.2|     0|\n|              5.0|             3.6|              1.4|             0.2|     0|\n|              5.4|             3.9|              1.7|             0.4|     0|\n|              4.6|             3.4|              1.4|             0.3|     0|\n|              5.0|             3.4|              1.5|             0.2|     0|\n|              4.4|             2.9|              1.4|             0.2|     0|\n|              4.9|             3.1|              1.5|             0.1|     0|\n|              5.4|             3.7|              1.5|             0.2|     0|\n|              4.8|             3.4|              1.6|             0.2|     0|\n|              4.8|             3.0|              1.4|             0.1|     0|\n|              4.3|             3.0|              1.1|             0.1|     0|\n|              5.8|             4.0|              1.2|             0.2|     0|\n|              5.7|             4.4|              1.5|             0.4|     0|\n|              5.4|             3.9|              1.3|             0.4|     0|\n|              5.1|             3.5|              1.4|             0.3|     0|\n|              5.7|             3.8|              1.7|             0.3|     0|\n|              5.1|             3.8|              1.5|             0.3|     0|\n+-----------------+----------------+-----------------+----------------+------+\nonly showing top 20 rows\n\n"
     ]
    }
   ],
   "source": [
    "# Load Iris data from sklearn\n",
    "iris_sklearn = load_iris()\n",
    "iris_df = pd.DataFrame(data=iris_sklearn.data, columns=iris_sklearn.feature_names)\n",
    "iris_df['target'] = iris_sklearn.target\n",
    "\n",
    "# Convert pandas DataFrame to Spark DataFrame\n",
    "iris_spark_df = spark.createDataFrame(iris_df)\n",
    "\n",
    "# Show the data (optional)\n",
    "iris_spark_df.show()\n"
   ]
  },
  {
   "cell_type": "code",
   "execution_count": 0,
   "metadata": {
    "application/vnd.databricks.v1+cell": {
     "cellMetadata": {
      "byteLimit": 2048000,
      "rowLimit": 10000
     },
     "inputWidgets": {},
     "nuid": "4d9b1453-fb28-4c07-888b-9b4bd896d351",
     "showTitle": false,
     "title": ""
    }
   },
   "outputs": [
    {
     "output_type": "stream",
     "name": "stdout",
     "output_type": "stream",
     "text": [
      "+-----------------+\n|         features|\n+-----------------+\n|[5.1,3.5,1.4,0.2]|\n|[4.9,3.0,1.4,0.2]|\n|[4.7,3.2,1.3,0.2]|\n|[4.6,3.1,1.5,0.2]|\n|[5.0,3.6,1.4,0.2]|\n|[5.4,3.9,1.7,0.4]|\n|[4.6,3.4,1.4,0.3]|\n|[5.0,3.4,1.5,0.2]|\n|[4.4,2.9,1.4,0.2]|\n|[4.9,3.1,1.5,0.1]|\n|[5.4,3.7,1.5,0.2]|\n|[4.8,3.4,1.6,0.2]|\n|[4.8,3.0,1.4,0.1]|\n|[4.3,3.0,1.1,0.1]|\n|[5.8,4.0,1.2,0.2]|\n|[5.7,4.4,1.5,0.4]|\n|[5.4,3.9,1.3,0.4]|\n|[5.1,3.5,1.4,0.3]|\n|[5.7,3.8,1.7,0.3]|\n|[5.1,3.8,1.5,0.3]|\n+-----------------+\nonly showing top 20 rows\n\n"
     ]
    }
   ],
   "source": [
    "# Assemble the features into a single vector column\n",
    "assembler = VectorAssembler(inputCols=iris_sklearn.feature_names, outputCol=\"features\")\n",
    "iris_features_df = assembler.transform(iris_spark_df)\n",
    "\n",
    "# Show the feature vector (optional)\n",
    "iris_features_df.select(\"features\").show()\n"
   ]
  },
  {
   "cell_type": "code",
   "execution_count": 0,
   "metadata": {
    "application/vnd.databricks.v1+cell": {
     "cellMetadata": {
      "byteLimit": 2048000,
      "rowLimit": 10000
     },
     "inputWidgets": {},
     "nuid": "64249816-101d-46f4-8664-b67eb4d4d29f",
     "showTitle": false,
     "title": ""
    }
   },
   "outputs": [
    {
     "output_type": "stream",
     "name": "stdout",
     "output_type": "stream",
     "text": [
      "+--------------------+\n|         pcaFeatures|\n+--------------------+\n|[-2.8182395066394...|\n|[-2.7882234453146...|\n|[-2.6133745635497...|\n|[-2.7570222769675...|\n|[-2.7736485960544...|\n|[-3.2215054997645...|\n|[-2.6818273818683...|\n|[-2.8762201594623...|\n|[-2.6159824008284...|\n|[-2.8296093347880...|\n|[-2.9954180419571...|\n|[-2.8896099017002...|\n|[-2.7162558664209...|\n|[-2.2785613887433...|\n|[-2.8576147426669...|\n|[-3.1163260990778...|\n|[-2.8788372573845...|\n|[-2.8540684263546...|\n|[-3.3025448089914...|\n|[-2.9143787327302...|\n+--------------------+\nonly showing top 20 rows\n\n"
     ]
    }
   ],
   "source": [
    "# Initialize PCA model\n",
    "pca = PCA(k=2, inputCol=\"features\", outputCol=\"pcaFeatures\")\n",
    "\n",
    "# Fit the model on the feature data\n",
    "pca_model = pca.fit(iris_features_df)\n",
    "\n",
    "# Transform the data using the PCA model\n",
    "iris_pca_df = pca_model.transform(iris_features_df)\n",
    "\n",
    "# Show the PCA features (optional)\n",
    "iris_pca_df.select(\"pcaFeatures\").show()\n"
   ]
  },
  {
   "cell_type": "code",
   "execution_count": 0,
   "metadata": {
    "application/vnd.databricks.v1+cell": {
     "cellMetadata": {
      "byteLimit": 2048000,
      "rowLimit": 10000
     },
     "inputWidgets": {},
     "nuid": "b092b621-657d-48a9-9cc6-1dee9b696672",
     "showTitle": false,
     "title": ""
    }
   },
   "outputs": [
    {
     "output_type": "display_data",
     "data": {
      "image/png": "[encoded data removed]",
      "text/plain": [
       "<Figure size 800x600 with 1 Axes>"
      ]
     },
     "metadata": {},
     "output_type": "display_data"
    }
   ],
   "source": [
    "import matplotlib.pyplot as plt\n",
    "import seaborn as sns\n",
    "\n",
    "# Convert to Pandas DataFrame\n",
    "pandas_df = iris_pca_df.select(\"pcaFeatures\").toPandas()\n",
    "\n",
    "# Extract PCA features for plotting\n",
    "pandas_df[\"pca1\"] = pandas_df[\"pcaFeatures\"].apply(lambda x: x[0])\n",
    "pandas_df[\"pca2\"] = pandas_df[\"pcaFeatures\"].apply(lambda x: x[1])\n",
    "\n",
    "# Plotting\n",
    "plt.figure(figsize=(8, 6))\n",
    "sns.scatterplot(x=\"pca1\", y=\"pca2\", data=pandas_df, palette=\"viridis\")\n",
    "plt.title(\"PCA of Iris Dataset\")\n",
    "plt.xlabel(\"Principal Component 1\")\n",
    "plt.ylabel(\"Principal Component 2\")\n",
    "plt.show()\n"
   ]
  },
  {
   "cell_type": "code",
   "execution_count": 0,
   "metadata": {
    "application/vnd.databricks.v1+cell": {
     "cellMetadata": {
      "byteLimit": 2048000,
      "rowLimit": 10000
     },
     "inputWidgets": {},
     "nuid": "80ccfd65-cc85-4b2c-8290-8ae4d7ec5f77",
     "showTitle": false,
     "title": ""
    }
   },
   "outputs": [
    {
     "output_type": "display_data",
     "data": {
      "text/html": [
       "<style scoped>\n",
       "  .ansiout {\n",
       "    display: block;\n",
       "    unicode-bidi: embed;\n",
       "    white-space: pre-wrap;\n",
       "    word-wrap: break-word;\n",
       "    word-break: break-all;\n",
       "    font-family: \"Menlo\", \"Monaco\", \"Consolas\", \"Ubuntu Mono\", \"Source Code Pro\", monospace;\n",
       "    font-size: 13px;\n",
       "    color: #555;\n",
       "    margin-left: 4px;\n",
       "    line-height: 19px;\n",
       "  }\n",
       "</style>"
      ]
     },
     "metadata": {
      "application/vnd.databricks.v1+output": {
       "arguments": {},
       "data": "",
       "errorSummary": "The spark context has stopped and the driver is restarting. Your notebook will be automatically reattached.",
       "errorTraceType": "html",
       "metadata": {},
       "type": "ipynbError"
      }
     },
     "output_type": "display_data"
    }
   ],
   "source": [
    "spark.stop()\n"
   ]
  }
 ],
 "metadata": {
  "application/vnd.databricks.v1+notebook": {
   "dashboards": [],
   "language": "python",
   "notebookMetadata": {
    "pythonIndentUnit": 4
   },
   "notebookName": "Dimensionality_Reduction 2023-12-02 16:59:13",
   "widgets": {}
  }
 },
 "nbformat": 4,
 "nbformat_minor": 0
}
